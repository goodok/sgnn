{
 "cells": [
  {
   "cell_type": "markdown",
   "metadata": {},
   "source": [
    "Install and tune\n",
    "\n",
    "\n",
    "https://github.com/pyvista/pyvista/issues/313\n",
    "\n",
    "\n",
    "    !apt-get install -qq xvfb\n",
    "    !pip install pyvista panel -q\n",
    "\n",
    "\n",
    "https://docs.pyvista.org/getting-started/what-is-a-mesh.html"
   ]
  },
  {
   "cell_type": "code",
   "execution_count": null,
   "metadata": {},
   "outputs": [],
   "source": [
    "import os\n",
    "os.system('/usr/bin/Xvfb :99 -screen 0 1024x768x24 &')\n",
    "os.environ['DISPLAY'] = ':99'\n",
    "\n",
    "import panel as pn\n",
    "#pn.extension('vtk')\n"
   ]
  },
  {
   "cell_type": "code",
   "execution_count": null,
   "metadata": {},
   "outputs": [],
   "source": [
    "\n",
    "### new cell simple plot ###\n",
    "pn.extension('vtk')  # this needs to be at the top of each cell for some reason\n",
    "import pyvista as pv\n",
    "sphere = pv.Sphere()\n",
    "sphere.plot(color='w', notebook=True)"
   ]
  },
  {
   "cell_type": "code",
   "execution_count": null,
   "metadata": {},
   "outputs": [],
   "source": [
    "\n",
    "\n",
    "import numpy as np\n",
    "import pyvista as pv\n",
    "\n",
    "nodes = np.random.rand(100, 3)\n",
    "mesh = pv.PolyData(nodes)\n",
    "mesh.plot(point_size=10, screenshot='random_nodes.png')"
   ]
  },
  {
   "cell_type": "code",
   "execution_count": null,
   "metadata": {},
   "outputs": [],
   "source": [
    "from pyvista import examples\n",
    "\n",
    "mesh = examples.load_hexbeam()\n",
    "bcpos = [(6.20, 3.00, 7.50),\n",
    "         (0.16, 0.13, 2.65),\n",
    "         (-0.28, 0.94, -0.21)]\n",
    "\n",
    "p = pv.Plotter( window_size=(500, 500))\n",
    "p.add_mesh(mesh, show_edges=True, color='white')\n",
    "p.add_mesh(pv.PolyData(mesh.points), color='red',\n",
    "       point_size=10, render_points_as_spheres=True)\n",
    "p.camera_position = bcpos\n",
    "p.show(interactive=True)"
   ]
  },
  {
   "cell_type": "code",
   "execution_count": null,
   "metadata": {},
   "outputs": [],
   "source": [
    "import pyvista as pv\n",
    "import pyvistaqt as pvqt\n",
    "from pyvista import examples\n",
    "\n",
    "dataset = examples.load_hexbeam()\n",
    "\n",
    "p = pvqt.BackgroundPlotter()\n",
    "\n",
    "p.add_mesh(dataset)\n",
    "\n",
    "p.show_bounds(grid=True, location='back')"
   ]
  },
  {
   "cell_type": "code",
   "execution_count": null,
   "metadata": {},
   "outputs": [],
   "source": []
  }
 ],
 "metadata": {
  "kernelspec": {
   "display_name": "Python 3",
   "language": "python",
   "name": "python3"
  },
  "language_info": {
   "codemirror_mode": {
    "name": "ipython",
    "version": 3
   },
   "file_extension": ".py",
   "mimetype": "text/x-python",
   "name": "python",
   "nbconvert_exporter": "python",
   "pygments_lexer": "ipython3",
   "version": "3.6.9"
  },
  "toc": {
   "base_numbering": 1,
   "nav_menu": {},
   "number_sections": true,
   "sideBar": true,
   "skip_h1_title": false,
   "title_cell": "Table of Contents",
   "title_sidebar": "Contents",
   "toc_cell": false,
   "toc_position": {},
   "toc_section_display": true,
   "toc_window_display": false
  }
 },
 "nbformat": 4,
 "nbformat_minor": 4
}
